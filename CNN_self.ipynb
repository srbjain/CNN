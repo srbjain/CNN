{
 "cells": [
  {
   "cell_type": "markdown",
   "metadata": {
    "colab_type": "text",
    "id": "3DR-eO17geWu"
   },
   "source": [
    "# Convolutional Neural Network"
   ]
  },
  {
   "cell_type": "markdown",
   "metadata": {
    "colab_type": "text",
    "id": "EMefrVPCg-60"
   },
   "source": [
    "### Importing the libraries"
   ]
  },
  {
   "cell_type": "code",
   "execution_count": 106,
   "metadata": {
    "colab": {},
    "colab_type": "code",
    "id": "JDqAEvyaA3ny"
   },
   "outputs": [],
   "source": [
    "import tensorflow as tf\n",
    "from keras.preprocessing.image import ImageDataGenerator"
   ]
  },
  {
   "cell_type": "markdown",
   "metadata": {
    "colab_type": "text",
    "id": "oxQxCBWyoGPE"
   },
   "source": [
    "## Part 1 - Data Preprocessing"
   ]
  },
  {
   "cell_type": "markdown",
   "metadata": {
    "colab_type": "text",
    "id": "MvE-heJNo3GG"
   },
   "source": [
    "### Preprocessing the Training set"
   ]
  },
  {
   "cell_type": "code",
   "execution_count": 107,
   "metadata": {
    "colab": {},
    "colab_type": "code",
    "id": "W-AQvsPCByx0"
   },
   "outputs": [
    {
     "name": "stdout",
     "output_type": "stream",
     "text": [
      "Found 8048 images belonging to 2 classes.\n"
     ]
    }
   ],
   "source": [
    "train_datagen=ImageDataGenerator(\n",
    "                          rescale=1./255,\n",
    "                          zoom_range=0.2,\n",
    "                          shear_range=0.2,\n",
    "                          vertical_flip=True,\n",
    "                          horizontal_flip=True,\n",
    "                          width_shift_range=0.2,\n",
    "                          height_shift_range=0.2\n",
    "                      )\n",
    "\n",
    "training_set = train_datagen.flow_from_directory(\n",
    "                                                    \"dataset/training_set\",\n",
    "                                                    target_size=(64,64),\n",
    "                                                    class_mode=\"binary\",\n",
    "                                                    batch_size=32\n",
    "                                                 )    "
   ]
  },
  {
   "cell_type": "markdown",
   "metadata": {
    "colab_type": "text",
    "id": "mrCMmGw9pHys"
   },
   "source": [
    "### Preprocessing the Test set"
   ]
  },
  {
   "cell_type": "code",
   "execution_count": 108,
   "metadata": {
    "colab": {},
    "colab_type": "code",
    "id": "ixGpWvANIyz3"
   },
   "outputs": [
    {
     "name": "stdout",
     "output_type": "stream",
     "text": [
      "Found 2000 images belonging to 2 classes.\n"
     ]
    }
   ],
   "source": [
    "test_datagen=ImageDataGenerator(  rescale=1./255  )\n",
    "\n",
    "test_set = test_datagen.flow_from_directory(\n",
    "                                    \"dataset/test_set\",\n",
    "                                    target_size=(64,64),\n",
    "                                    class_mode=\"binary\",\n",
    "                                    batch_size=32\n",
    "                                 )    "
   ]
  },
  {
   "cell_type": "markdown",
   "metadata": {
    "colab_type": "text",
    "id": "af8O4l90gk7B"
   },
   "source": [
    "## Part 2 - Building the CNN"
   ]
  },
  {
   "cell_type": "markdown",
   "metadata": {
    "colab_type": "text",
    "id": "ces1gXY2lmoX"
   },
   "source": [
    "### Initialising the CNN"
   ]
  },
  {
   "cell_type": "code",
   "execution_count": 109,
   "metadata": {
    "colab": {},
    "colab_type": "code",
    "id": "A0SxakWClFs0"
   },
   "outputs": [],
   "source": [
    "cnn=tf.keras.Sequential()"
   ]
  },
  {
   "cell_type": "markdown",
   "metadata": {
    "colab_type": "text",
    "id": "u5YJj_XMl5LF"
   },
   "source": [
    "### Step 1 - Convolution"
   ]
  },
  {
   "cell_type": "code",
   "execution_count": 110,
   "metadata": {
    "colab": {},
    "colab_type": "code",
    "id": "Tcs7uls5loXg"
   },
   "outputs": [],
   "source": [
    "cnn.add(tf.keras.layers.Conv2D(filters=100,kernel_size=5, activation=\"relu\",input_shape=[64,64,3]))"
   ]
  },
  {
   "cell_type": "markdown",
   "metadata": {
    "colab_type": "text",
    "id": "tf87FpvxmNOJ"
   },
   "source": [
    "### Step 2 - Pooling"
   ]
  },
  {
   "cell_type": "code",
   "execution_count": 111,
   "metadata": {
    "colab": {},
    "colab_type": "code",
    "id": "r5XFRwMMnIMA"
   },
   "outputs": [],
   "source": [
    "cnn.add(tf.keras.layers.MaxPool2D(pool_size=2,strides=2))"
   ]
  },
  {
   "cell_type": "markdown",
   "metadata": {
    "colab_type": "text",
    "id": "xaTOgD8rm4mU"
   },
   "source": [
    "### Adding a second convolutional layer"
   ]
  },
  {
   "cell_type": "code",
   "execution_count": 112,
   "metadata": {
    "colab": {},
    "colab_type": "code",
    "id": "zWmWr39_nmnH"
   },
   "outputs": [],
   "source": [
    "cnn.add(tf.keras.layers.Conv2D(filters=100,kernel_size=5,activation=\"relu\"))\n",
    "cnn.add(tf.keras.layers.MaxPool2D(pool_size=2,strides=2))"
   ]
  },
  {
   "cell_type": "markdown",
   "metadata": {
    "colab_type": "text",
    "id": "tmiEuvTunKfk"
   },
   "source": [
    "### Step 3 - Flattening"
   ]
  },
  {
   "cell_type": "code",
   "execution_count": 113,
   "metadata": {
    "colab": {},
    "colab_type": "code",
    "id": "dW01VEfkoP28"
   },
   "outputs": [],
   "source": [
    "cnn.add(tf.keras.layers.Flatten())"
   ]
  },
  {
   "cell_type": "markdown",
   "metadata": {
    "colab_type": "text",
    "id": "dAoSECOm203v"
   },
   "source": [
    "### Step 4 - Full Connection"
   ]
  },
  {
   "cell_type": "code",
   "execution_count": 114,
   "metadata": {
    "colab": {},
    "colab_type": "code",
    "id": "kFilk7d8ogrm"
   },
   "outputs": [],
   "source": [
    "cnn.add(tf.keras.layers.Dense(units=128, activation=\"relu\"))\n",
    "cnn.add(tf.keras.layers.Dense(units=128, activation=\"relu\"))"
   ]
  },
  {
   "cell_type": "markdown",
   "metadata": {
    "colab_type": "text",
    "id": "yTldFvbX28Na"
   },
   "source": [
    "### Step 5 - Output Layer"
   ]
  },
  {
   "cell_type": "code",
   "execution_count": 115,
   "metadata": {
    "colab": {},
    "colab_type": "code",
    "id": "RyiWIjKGpuTk"
   },
   "outputs": [],
   "source": [
    "cnn.add(tf.keras.layers.Dense(units=1, activation=\"sigmoid\"))"
   ]
  },
  {
   "cell_type": "markdown",
   "metadata": {
    "colab_type": "text",
    "id": "D6XkI90snSDl"
   },
   "source": [
    "## Part 3 - Training the CNN"
   ]
  },
  {
   "cell_type": "markdown",
   "metadata": {
    "colab_type": "text",
    "id": "vfrFQACEnc6i"
   },
   "source": [
    "### Compiling the CNN"
   ]
  },
  {
   "cell_type": "code",
   "execution_count": 116,
   "metadata": {
    "colab": {},
    "colab_type": "code",
    "id": "JGS6Pwiyrrql"
   },
   "outputs": [],
   "source": [
    "cnn.compile(optimizer=\"adam\", loss=\"binary_crossentropy\", metrics=[\"accuracy\"])"
   ]
  },
  {
   "cell_type": "markdown",
   "metadata": {
    "colab_type": "text",
    "id": "ehS-v3MIpX2h"
   },
   "source": [
    "### Training the CNN on the Training set and evaluating it on the Test set"
   ]
  },
  {
   "cell_type": "code",
   "execution_count": 117,
   "metadata": {
    "colab": {},
    "colab_type": "code",
    "id": "Yf-7lPcisUc4"
   },
   "outputs": [
    {
     "name": "stdout",
     "output_type": "stream",
     "text": [
      "WARNING:tensorflow:sample_weight modes were coerced from\n",
      "  ...\n",
      "    to  \n",
      "  ['...']\n",
      "WARNING:tensorflow:sample_weight modes were coerced from\n",
      "  ...\n",
      "    to  \n",
      "  ['...']\n",
      "Train for 252 steps, validate for 63 steps\n",
      "Epoch 1/50\n",
      "252/252 [==============================] - 302s 1s/step - loss: 0.6964 - accuracy: 0.5017 - val_loss: 0.6932 - val_accuracy: 0.5000\n",
      "Epoch 2/50\n",
      "252/252 [==============================] - 296s 1s/step - loss: 0.6933 - accuracy: 0.4945 - val_loss: 0.6931 - val_accuracy: 0.5000\n",
      "Epoch 3/50\n",
      "252/252 [==============================] - 2587s 10s/step - loss: 0.6936 - accuracy: 0.5043 - val_loss: 0.6926 - val_accuracy: 0.5165\n",
      "Epoch 4/50\n",
      "252/252 [==============================] - 237s 942ms/step - loss: 0.6922 - accuracy: 0.5184 - val_loss: 0.6896 - val_accuracy: 0.5460\n",
      "Epoch 5/50\n",
      "252/252 [==============================] - 223s 887ms/step - loss: 0.6881 - accuracy: 0.5455 - val_loss: 0.6835 - val_accuracy: 0.5675\n",
      "Epoch 6/50\n",
      "252/252 [==============================] - 239s 950ms/step - loss: 0.6881 - accuracy: 0.5363 - val_loss: 0.6832 - val_accuracy: 0.5670\n",
      "Epoch 7/50\n",
      "252/252 [==============================] - 286s 1s/step - loss: 0.6848 - accuracy: 0.5511 - val_loss: 0.6869 - val_accuracy: 0.5505\n",
      "Epoch 8/50\n",
      "252/252 [==============================] - 412s 2s/step - loss: 0.6856 - accuracy: 0.5493 - val_loss: 0.6825 - val_accuracy: 0.5655\n",
      "Epoch 9/50\n",
      "252/252 [==============================] - 404s 2s/step - loss: 0.6848 - accuracy: 0.5545 - val_loss: 0.6811 - val_accuracy: 0.5765\n",
      "Epoch 10/50\n",
      "252/252 [==============================] - 337s 1s/step - loss: 0.6845 - accuracy: 0.5564 - val_loss: 0.6828 - val_accuracy: 0.5620\n",
      "Epoch 11/50\n",
      "252/252 [==============================] - 259s 1s/step - loss: 0.6845 - accuracy: 0.5579 - val_loss: 0.6785 - val_accuracy: 0.5840\n",
      "Epoch 12/50\n",
      "252/252 [==============================] - 255s 1s/step - loss: 0.6823 - accuracy: 0.5672 - val_loss: 0.6797 - val_accuracy: 0.5665\n",
      "Epoch 13/50\n",
      "252/252 [==============================] - 491s 2s/step - loss: 0.6819 - accuracy: 0.5624 - val_loss: 0.6865 - val_accuracy: 0.5445\n",
      "Epoch 14/50\n",
      "252/252 [==============================] - 298s 1s/step - loss: 0.6838 - accuracy: 0.5591 - val_loss: 0.6902 - val_accuracy: 0.5120\n",
      "Epoch 15/50\n",
      "252/252 [==============================] - 298s 1s/step - loss: 0.6818 - accuracy: 0.5652 - val_loss: 0.6772 - val_accuracy: 0.5725\n",
      "Epoch 16/50\n",
      "252/252 [==============================] - 242s 962ms/step - loss: 0.6788 - accuracy: 0.5701 - val_loss: 0.6766 - val_accuracy: 0.5805\n",
      "Epoch 17/50\n",
      "252/252 [==============================] - 236s 937ms/step - loss: 0.6774 - accuracy: 0.5747 - val_loss: 0.6750 - val_accuracy: 0.5820\n",
      "Epoch 18/50\n",
      "252/252 [==============================] - 2136s 8s/step - loss: 0.6762 - accuracy: 0.5816 - val_loss: 0.6664 - val_accuracy: 0.6065\n",
      "Epoch 19/50\n",
      "252/252 [==============================] - 258s 1s/step - loss: 0.6778 - accuracy: 0.5742 - val_loss: 0.6703 - val_accuracy: 0.6030\n",
      "Epoch 20/50\n",
      "252/252 [==============================] - 254s 1s/step - loss: 0.6719 - accuracy: 0.5866 - val_loss: 0.6657 - val_accuracy: 0.6120\n",
      "Epoch 21/50\n",
      "252/252 [==============================] - 253s 1s/step - loss: 0.6688 - accuracy: 0.5954 - val_loss: 0.6581 - val_accuracy: 0.6305\n",
      "Epoch 22/50\n",
      "252/252 [==============================] - 240s 951ms/step - loss: 0.6557 - accuracy: 0.6172 - val_loss: 0.6427 - val_accuracy: 0.6330\n",
      "Epoch 23/50\n",
      "252/252 [==============================] - 233s 923ms/step - loss: 0.6509 - accuracy: 0.6185 - val_loss: 0.6305 - val_accuracy: 0.6565\n",
      "Epoch 24/50\n",
      "252/252 [==============================] - 231s 917ms/step - loss: 0.6343 - accuracy: 0.6380 - val_loss: 0.6188 - val_accuracy: 0.6680\n",
      "Epoch 25/50\n",
      "252/252 [==============================] - 240s 954ms/step - loss: 0.6303 - accuracy: 0.6431 - val_loss: 0.6251 - val_accuracy: 0.6545\n",
      "Epoch 26/50\n",
      "252/252 [==============================] - 263s 1s/step - loss: 0.6264 - accuracy: 0.6451 - val_loss: 0.5982 - val_accuracy: 0.6820\n",
      "Epoch 27/50\n",
      "252/252 [==============================] - 249s 987ms/step - loss: 0.6208 - accuracy: 0.6576 - val_loss: 0.5912 - val_accuracy: 0.6805\n",
      "Epoch 28/50\n",
      "252/252 [==============================] - 269s 1s/step - loss: 0.6153 - accuracy: 0.6573 - val_loss: 0.6033 - val_accuracy: 0.6720\n",
      "Epoch 29/50\n",
      "252/252 [==============================] - 263s 1s/step - loss: 0.6059 - accuracy: 0.6617 - val_loss: 0.5915 - val_accuracy: 0.6855\n",
      "Epoch 30/50\n",
      "252/252 [==============================] - 234s 929ms/step - loss: 0.6072 - accuracy: 0.6661 - val_loss: 0.6013 - val_accuracy: 0.6650\n",
      "Epoch 31/50\n",
      "252/252 [==============================] - 241s 957ms/step - loss: 0.5973 - accuracy: 0.6786 - val_loss: 0.5886 - val_accuracy: 0.6950\n",
      "Epoch 32/50\n",
      "252/252 [==============================] - 536s 2s/step - loss: 0.6055 - accuracy: 0.6671 - val_loss: 0.5932 - val_accuracy: 0.6865\n",
      "Epoch 33/50\n",
      "252/252 [==============================] - 245s 973ms/step - loss: 0.5987 - accuracy: 0.6743 - val_loss: 0.5709 - val_accuracy: 0.7140\n",
      "Epoch 34/50\n",
      "252/252 [==============================] - 270s 1s/step - loss: 0.5947 - accuracy: 0.6861 - val_loss: 0.5708 - val_accuracy: 0.7055\n",
      "Epoch 35/50\n",
      "252/252 [==============================] - 326s 1s/step - loss: 0.5891 - accuracy: 0.6877 - val_loss: 0.6199 - val_accuracy: 0.6695\n",
      "Epoch 36/50\n",
      "252/252 [==============================] - 292s 1s/step - loss: 0.5873 - accuracy: 0.6861 - val_loss: 0.5763 - val_accuracy: 0.6980\n",
      "Epoch 37/50\n",
      "252/252 [==============================] - 238s 945ms/step - loss: 0.5854 - accuracy: 0.6914 - val_loss: 0.5670 - val_accuracy: 0.7055\n",
      "Epoch 38/50\n",
      "252/252 [==============================] - 237s 942ms/step - loss: 0.5873 - accuracy: 0.6921 - val_loss: 0.5772 - val_accuracy: 0.6980\n",
      "Epoch 39/50\n",
      "252/252 [==============================] - 8692s 34s/step - loss: 0.5783 - accuracy: 0.6899 - val_loss: 0.5690 - val_accuracy: 0.7140\n",
      "Epoch 40/50\n",
      "252/252 [==============================] - 255s 1s/step - loss: 0.5728 - accuracy: 0.6999 - val_loss: 0.5525 - val_accuracy: 0.7235\n",
      "Epoch 41/50\n",
      "252/252 [==============================] - 264s 1s/step - loss: 0.5751 - accuracy: 0.6935 - val_loss: 0.5436 - val_accuracy: 0.7255\n",
      "Epoch 42/50\n",
      "252/252 [==============================] - 293s 1s/step - loss: 0.5741 - accuracy: 0.7012 - val_loss: 0.5520 - val_accuracy: 0.7220\n",
      "Epoch 43/50\n",
      "252/252 [==============================] - 280s 1s/step - loss: 0.5671 - accuracy: 0.6978 - val_loss: 0.5613 - val_accuracy: 0.7140\n",
      "Epoch 44/50\n",
      "252/252 [==============================] - 285s 1s/step - loss: 0.5711 - accuracy: 0.6967 - val_loss: 0.5471 - val_accuracy: 0.7190\n",
      "Epoch 45/50\n",
      "252/252 [==============================] - 298s 1s/step - loss: 0.5761 - accuracy: 0.7014 - val_loss: 0.5614 - val_accuracy: 0.7080\n",
      "Epoch 46/50\n",
      "252/252 [==============================] - 245s 973ms/step - loss: 0.5643 - accuracy: 0.7055 - val_loss: 0.5404 - val_accuracy: 0.7295\n",
      "Epoch 47/50\n",
      "252/252 [==============================] - 233s 923ms/step - loss: 0.5647 - accuracy: 0.7053 - val_loss: 0.5396 - val_accuracy: 0.7305\n",
      "Epoch 48/50\n",
      "252/252 [==============================] - 280s 1s/step - loss: 0.5628 - accuracy: 0.7073 - val_loss: 0.5833 - val_accuracy: 0.6860\n",
      "Epoch 49/50\n",
      "252/252 [==============================] - 320s 1s/step - loss: 0.5621 - accuracy: 0.7048 - val_loss: 0.5463 - val_accuracy: 0.7220\n",
      "Epoch 50/50\n",
      "252/252 [==============================] - 310s 1s/step - loss: 0.5582 - accuracy: 0.7105 - val_loss: 0.5386 - val_accuracy: 0.7270\n"
     ]
    },
    {
     "data": {
      "text/plain": [
       "<tensorflow.python.keras.callbacks.History at 0x63d839350>"
      ]
     },
     "execution_count": 117,
     "metadata": {},
     "output_type": "execute_result"
    }
   ],
   "source": [
    "cnn.fit(x=training_set, validation_data=test_set, epochs=50)"
   ]
  },
  {
   "cell_type": "markdown",
   "metadata": {
    "colab_type": "text",
    "id": "U3PZasO0006Z"
   },
   "source": [
    "## Part 4 - Making a single prediction"
   ]
  },
  {
   "cell_type": "code",
   "execution_count": 118,
   "metadata": {},
   "outputs": [],
   "source": [
    "from keras.preprocessing import image\n",
    "import numpy as np"
   ]
  },
  {
   "cell_type": "code",
   "execution_count": 120,
   "metadata": {},
   "outputs": [
    {
     "name": "stdout",
     "output_type": "stream",
     "text": [
      "dog\n"
     ]
    }
   ],
   "source": [
    "image_set=image.load_img(\"dataset/single_prediction/cat_or_dog_1.jpg\", target_size=(64,64),)\n",
    "image_set=image.img_to_array(image_set)\n",
    "image_set=np.expand_dims(image_set, axis=0)\n",
    "result=cnn.predict(image_set)\n",
    "if result[0][0]==1:\n",
    "    print(\"dog\")\n",
    "else:\n",
    "    print(\"cat\")"
   ]
  },
  {
   "cell_type": "code",
   "execution_count": null,
   "metadata": {},
   "outputs": [],
   "source": []
  },
  {
   "cell_type": "code",
   "execution_count": null,
   "metadata": {},
   "outputs": [],
   "source": []
  },
  {
   "cell_type": "code",
   "execution_count": null,
   "metadata": {},
   "outputs": [],
   "source": []
  },
  {
   "cell_type": "code",
   "execution_count": null,
   "metadata": {},
   "outputs": [],
   "source": []
  },
  {
   "cell_type": "code",
   "execution_count": null,
   "metadata": {},
   "outputs": [],
   "source": []
  },
  {
   "cell_type": "code",
   "execution_count": null,
   "metadata": {},
   "outputs": [],
   "source": []
  },
  {
   "cell_type": "code",
   "execution_count": null,
   "metadata": {},
   "outputs": [],
   "source": []
  },
  {
   "cell_type": "code",
   "execution_count": null,
   "metadata": {},
   "outputs": [],
   "source": []
  },
  {
   "cell_type": "code",
   "execution_count": null,
   "metadata": {},
   "outputs": [],
   "source": []
  },
  {
   "cell_type": "code",
   "execution_count": null,
   "metadata": {},
   "outputs": [],
   "source": []
  }
 ],
 "metadata": {
  "colab": {
   "collapsed_sections": [],
   "name": "Copy of convolutional_neural_network.ipynb",
   "provenance": [],
   "toc_visible": true
  },
  "kernelspec": {
   "display_name": "Python 3",
   "language": "python",
   "name": "python3"
  },
  "language_info": {
   "codemirror_mode": {
    "name": "ipython",
    "version": 3
   },
   "file_extension": ".py",
   "mimetype": "text/x-python",
   "name": "python",
   "nbconvert_exporter": "python",
   "pygments_lexer": "ipython3",
   "version": "3.7.7"
  }
 },
 "nbformat": 4,
 "nbformat_minor": 1
}
