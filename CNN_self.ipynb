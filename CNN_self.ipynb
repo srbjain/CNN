{
 "cells": [
  {
   "cell_type": "markdown",
   "metadata": {
    "colab_type": "text",
    "id": "3DR-eO17geWu"
   },
   "source": [
    "# Convolutional Neural Network"
   ]
  },
  {
   "cell_type": "markdown",
   "metadata": {
    "colab_type": "text",
    "id": "EMefrVPCg-60"
   },
   "source": [
    "### Importing the libraries"
   ]
  },
  {
   "cell_type": "code",
   "execution_count": 76,
   "metadata": {
    "colab": {},
    "colab_type": "code",
    "id": "JDqAEvyaA3ny"
   },
   "outputs": [],
   "source": [
    "import tensorflow as tf\n",
    "from keras.preprocessing.image import ImageDataGenerator"
   ]
  },
  {
   "cell_type": "markdown",
   "metadata": {
    "colab_type": "text",
    "id": "oxQxCBWyoGPE"
   },
   "source": [
    "## Part 1 - Data Preprocessing"
   ]
  },
  {
   "cell_type": "markdown",
   "metadata": {
    "colab_type": "text",
    "id": "MvE-heJNo3GG"
   },
   "source": [
    "### Preprocessing the Training set"
   ]
  },
  {
   "cell_type": "code",
   "execution_count": 77,
   "metadata": {
    "colab": {},
    "colab_type": "code",
    "id": "W-AQvsPCByx0"
   },
   "outputs": [
    {
     "name": "stdout",
     "output_type": "stream",
     "text": [
      "Found 8048 images belonging to 2 classes.\n"
     ]
    }
   ],
   "source": [
    "# ImageDataGenerator make variation of same set of images in each epochs, \n",
    "# without changing/increasing the original dataset but instead making it more versatile.\n",
    "\n",
    "train_datagen=ImageDataGenerator(\n",
    "                          rescale=1./255,\n",
    "                          zoom_range=0.2,\n",
    "                          shear_range=0.2,\n",
    "                          vertical_flip=True,\n",
    "                          horizontal_flip=True,\n",
    "                          width_shift_range=0.2,\n",
    "                          height_shift_range=0.2\n",
    "                      )\n",
    "\n",
    "training_set = train_datagen.flow_from_directory(\n",
    "                                                    \"dataset/training_set\",\n",
    "                                                    target_size=(64,64),\n",
    "                                                    class_mode=\"binary\",\n",
    "                                                    batch_size=32\n",
    "                                                 )    "
   ]
  },
  {
   "cell_type": "markdown",
   "metadata": {
    "colab_type": "text",
    "id": "mrCMmGw9pHys"
   },
   "source": [
    "### Preprocessing the Test set"
   ]
  },
  {
   "cell_type": "code",
   "execution_count": 78,
   "metadata": {
    "colab": {},
    "colab_type": "code",
    "id": "ixGpWvANIyz3"
   },
   "outputs": [
    {
     "name": "stdout",
     "output_type": "stream",
     "text": [
      "Found 2000 images belonging to 2 classes.\n"
     ]
    }
   ],
   "source": [
    "test_datagen=ImageDataGenerator(  rescale=1./255  )\n",
    "\n",
    "test_set = test_datagen.flow_from_directory(\n",
    "                                    \"dataset/test_set\",\n",
    "                                    target_size=(64,64),\n",
    "                                    class_mode=\"binary\",\n",
    "                                    batch_size=32\n",
    "                                 )    "
   ]
  },
  {
   "cell_type": "markdown",
   "metadata": {
    "colab_type": "text",
    "id": "af8O4l90gk7B"
   },
   "source": [
    "## Part 2 - Building the CNN"
   ]
  },
  {
   "cell_type": "markdown",
   "metadata": {
    "colab_type": "text",
    "id": "ces1gXY2lmoX"
   },
   "source": [
    "### Initialising the CNN"
   ]
  },
  {
   "cell_type": "code",
   "execution_count": 79,
   "metadata": {
    "colab": {},
    "colab_type": "code",
    "id": "A0SxakWClFs0"
   },
   "outputs": [],
   "source": [
    "cnn=tf.keras.Sequential()"
   ]
  },
  {
   "cell_type": "markdown",
   "metadata": {
    "colab_type": "text",
    "id": "u5YJj_XMl5LF"
   },
   "source": [
    "### Step 1 - Convolution"
   ]
  },
  {
   "cell_type": "code",
   "execution_count": 80,
   "metadata": {
    "colab": {},
    "colab_type": "code",
    "id": "Tcs7uls5loXg"
   },
   "outputs": [],
   "source": [
    "# Param = input * output + bias\n",
    "# Param = (no of nodes) * (no of filter * size of filter) + (no of filter)\n",
    "# Param = 3 (rgb) * (100 * 5 * 5) + 100 = 7600\n",
    "cnn.add(tf.keras.layers.Conv2D(filters=100,kernel_size=5, activation=\"relu\",input_shape=[64,64,3]))"
   ]
  },
  {
   "cell_type": "markdown",
   "metadata": {
    "colab_type": "text",
    "id": "tf87FpvxmNOJ"
   },
   "source": [
    "### Step 2 - Pooling"
   ]
  },
  {
   "cell_type": "code",
   "execution_count": 81,
   "metadata": {
    "colab": {},
    "colab_type": "code",
    "id": "r5XFRwMMnIMA"
   },
   "outputs": [],
   "source": [
    "# Param =  \n",
    "cnn.add(tf.keras.layers.MaxPool2D(pool_size=2,strides=2))"
   ]
  },
  {
   "cell_type": "markdown",
   "metadata": {
    "colab_type": "text",
    "id": "xaTOgD8rm4mU"
   },
   "source": [
    "### Adding a second convolutional layer"
   ]
  },
  {
   "cell_type": "code",
   "execution_count": 82,
   "metadata": {
    "colab": {},
    "colab_type": "code",
    "id": "zWmWr39_nmnH"
   },
   "outputs": [],
   "source": [
    "# Param = input * output + bias\n",
    "# Param = (previous layer filters) * (no of filter * size of filter) + (no of filter)\n",
    "# Param = (100) * (100 * 5 * 5) + 100 = 250100\n",
    "cnn.add(tf.keras.layers.Conv2D(filters=100,kernel_size=5,activation=\"relu\"))\n",
    "cnn.add(tf.keras.layers.MaxPool2D(pool_size=2,strides=2))"
   ]
  },
  {
   "cell_type": "markdown",
   "metadata": {
    "colab_type": "text",
    "id": "tmiEuvTunKfk"
   },
   "source": [
    "### Step 3 - Flattening"
   ]
  },
  {
   "cell_type": "code",
   "execution_count": 83,
   "metadata": {
    "colab": {},
    "colab_type": "code",
    "id": "dW01VEfkoP28"
   },
   "outputs": [],
   "source": [
    "# Param = (13) * (13) * 100 = 16900\n",
    "cnn.add(tf.keras.layers.Flatten())"
   ]
  },
  {
   "cell_type": "markdown",
   "metadata": {
    "colab_type": "text",
    "id": "dAoSECOm203v"
   },
   "source": [
    "### Step 4 - Full Connection"
   ]
  },
  {
   "cell_type": "code",
   "execution_count": 84,
   "metadata": {
    "colab": {},
    "colab_type": "code",
    "id": "kFilk7d8ogrm"
   },
   "outputs": [],
   "source": [
    "# Param = (16900) * (128) + 128 = 2163328\n",
    "cnn.add(tf.keras.layers.Dense(units=128, activation=\"relu\"))\n",
    "# Param = (128) * (128) + 128 = 16512\n",
    "cnn.add(tf.keras.layers.Dense(units=128, activation=\"relu\"))"
   ]
  },
  {
   "cell_type": "markdown",
   "metadata": {
    "colab_type": "text",
    "id": "yTldFvbX28Na"
   },
   "source": [
    "### Step 5 - Output Layer"
   ]
  },
  {
   "cell_type": "code",
   "execution_count": 85,
   "metadata": {
    "colab": {},
    "colab_type": "code",
    "id": "RyiWIjKGpuTk"
   },
   "outputs": [],
   "source": [
    "cnn.add(tf.keras.layers.Dense(units=1, activation=\"sigmoid\"))"
   ]
  },
  {
   "cell_type": "code",
   "execution_count": 86,
   "metadata": {},
   "outputs": [
    {
     "name": "stdout",
     "output_type": "stream",
     "text": [
      "Model: \"sequential_4\"\n",
      "_________________________________________________________________\n",
      "Layer (type)                 Output Shape              Param #   \n",
      "=================================================================\n",
      "conv2d_8 (Conv2D)            (None, 60, 60, 100)       7600      \n",
      "_________________________________________________________________\n",
      "max_pooling2d_8 (MaxPooling2 (None, 30, 30, 100)       0         \n",
      "_________________________________________________________________\n",
      "conv2d_9 (Conv2D)            (None, 26, 26, 100)       250100    \n",
      "_________________________________________________________________\n",
      "max_pooling2d_9 (MaxPooling2 (None, 13, 13, 100)       0         \n",
      "_________________________________________________________________\n",
      "flatten_4 (Flatten)          (None, 16900)             0         \n",
      "_________________________________________________________________\n",
      "dense_12 (Dense)             (None, 128)               2163328   \n",
      "_________________________________________________________________\n",
      "dense_13 (Dense)             (None, 128)               16512     \n",
      "_________________________________________________________________\n",
      "dense_14 (Dense)             (None, 1)                 129       \n",
      "=================================================================\n",
      "Total params: 2,437,669\n",
      "Trainable params: 2,437,669\n",
      "Non-trainable params: 0\n",
      "_________________________________________________________________\n"
     ]
    }
   ],
   "source": [
    "cnn.summary()"
   ]
  },
  {
   "cell_type": "markdown",
   "metadata": {
    "colab_type": "text",
    "id": "D6XkI90snSDl"
   },
   "source": [
    "## Part 3 - Training the CNN"
   ]
  },
  {
   "cell_type": "markdown",
   "metadata": {
    "colab_type": "text",
    "id": "vfrFQACEnc6i"
   },
   "source": [
    "### Compiling the CNN"
   ]
  },
  {
   "cell_type": "code",
   "execution_count": 87,
   "metadata": {
    "colab": {},
    "colab_type": "code",
    "id": "JGS6Pwiyrrql"
   },
   "outputs": [],
   "source": [
    "cnn.compile(optimizer=\"adam\", loss=\"binary_crossentropy\", metrics=[\"accuracy\"])"
   ]
  },
  {
   "cell_type": "markdown",
   "metadata": {
    "colab_type": "text",
    "id": "ehS-v3MIpX2h"
   },
   "source": [
    "### Training the CNN on the Training set and evaluating it on the Test set"
   ]
  },
  {
   "cell_type": "code",
   "execution_count": 88,
   "metadata": {
    "colab": {},
    "colab_type": "code",
    "id": "Yf-7lPcisUc4"
   },
   "outputs": [
    {
     "name": "stdout",
     "output_type": "stream",
     "text": [
      "WARNING:tensorflow:sample_weight modes were coerced from\n",
      "  ...\n",
      "    to  \n",
      "  ['...']\n",
      "WARNING:tensorflow:sample_weight modes were coerced from\n",
      "  ...\n",
      "    to  \n",
      "  ['...']\n",
      "Train for 252 steps, validate for 63 steps\n",
      "Epoch 1/50\n",
      "252/252 [==============================] - 219s 870ms/step - loss: 0.6939 - accuracy: 0.4970 - val_loss: 0.6929 - val_accuracy: 0.5060\n",
      "Epoch 2/50\n",
      "252/252 [==============================] - 213s 847ms/step - loss: 0.6918 - accuracy: 0.5226 - val_loss: 0.6876 - val_accuracy: 0.5445\n",
      "Epoch 3/50\n",
      "252/252 [==============================] - 210s 834ms/step - loss: 0.6874 - accuracy: 0.5413 - val_loss: 0.6856 - val_accuracy: 0.5695\n",
      "Epoch 4/50\n",
      "252/252 [==============================] - 203s 807ms/step - loss: 0.6864 - accuracy: 0.5493 - val_loss: 0.6806 - val_accuracy: 0.5715\n",
      "Epoch 5/50\n",
      "252/252 [==============================] - 202s 803ms/step - loss: 0.6853 - accuracy: 0.5504 - val_loss: 0.6824 - val_accuracy: 0.5665\n",
      "Epoch 6/50\n",
      "252/252 [==============================] - 194s 770ms/step - loss: 0.6817 - accuracy: 0.5577 - val_loss: 0.6794 - val_accuracy: 0.5705\n",
      "Epoch 7/50\n",
      "252/252 [==============================] - 266s 1s/step - loss: 0.6820 - accuracy: 0.5570 - val_loss: 0.6765 - val_accuracy: 0.5760\n",
      "Epoch 8/50\n",
      "252/252 [==============================] - 259s 1s/step - loss: 0.6812 - accuracy: 0.5630 - val_loss: 0.6807 - val_accuracy: 0.5715\n",
      "Epoch 9/50\n",
      "252/252 [==============================] - 253s 1s/step - loss: 0.6795 - accuracy: 0.5652 - val_loss: 0.6747 - val_accuracy: 0.5770\n",
      "Epoch 10/50\n",
      "252/252 [==============================] - 211s 835ms/step - loss: 0.6760 - accuracy: 0.5754 - val_loss: 0.6727 - val_accuracy: 0.5855\n",
      "Epoch 11/50\n",
      "252/252 [==============================] - 206s 818ms/step - loss: 0.6762 - accuracy: 0.5794 - val_loss: 0.6672 - val_accuracy: 0.6005\n",
      "Epoch 12/50\n",
      "252/252 [==============================] - 235s 934ms/step - loss: 0.6740 - accuracy: 0.5779 - val_loss: 0.6722 - val_accuracy: 0.5870\n",
      "Epoch 13/50\n",
      "252/252 [==============================] - 230s 914ms/step - loss: 0.6731 - accuracy: 0.5800 - val_loss: 0.6710 - val_accuracy: 0.5900\n",
      "Epoch 14/50\n",
      "252/252 [==============================] - 204s 811ms/step - loss: 0.6715 - accuracy: 0.5859 - val_loss: 0.6665 - val_accuracy: 0.5975\n",
      "Epoch 15/50\n",
      "252/252 [==============================] - 186s 739ms/step - loss: 0.6714 - accuracy: 0.5813 - val_loss: 0.6652 - val_accuracy: 0.5860\n",
      "Epoch 16/50\n",
      "252/252 [==============================] - 194s 769ms/step - loss: 0.6662 - accuracy: 0.5978 - val_loss: 0.6633 - val_accuracy: 0.6020\n",
      "Epoch 17/50\n",
      "252/252 [==============================] - 196s 778ms/step - loss: 0.6708 - accuracy: 0.5844 - val_loss: 0.6715 - val_accuracy: 0.5930\n",
      "Epoch 18/50\n",
      "252/252 [==============================] - 33605s 133s/step - loss: 0.6679 - accuracy: 0.5860 - val_loss: 0.6609 - val_accuracy: 0.6075\n",
      "Epoch 19/50\n",
      "252/252 [==============================] - 243s 963ms/step - loss: 0.6663 - accuracy: 0.5936 - val_loss: 0.6699 - val_accuracy: 0.5735\n",
      "Epoch 20/50\n",
      "252/252 [==============================] - 239s 949ms/step - loss: 0.6657 - accuracy: 0.5938 - val_loss: 0.6588 - val_accuracy: 0.6135\n",
      "Epoch 21/50\n",
      "252/252 [==============================] - 242s 962ms/step - loss: 0.6514 - accuracy: 0.6244 - val_loss: 0.6475 - val_accuracy: 0.6190\n",
      "Epoch 22/50\n",
      "252/252 [==============================] - 236s 938ms/step - loss: 0.6428 - accuracy: 0.6308 - val_loss: 0.6331 - val_accuracy: 0.6610\n",
      "Epoch 23/50\n",
      "252/252 [==============================] - 192s 760ms/step - loss: 0.6423 - accuracy: 0.6331 - val_loss: 0.6282 - val_accuracy: 0.6565\n",
      "Epoch 24/50\n",
      "252/252 [==============================] - 230s 912ms/step - loss: 0.6348 - accuracy: 0.6423 - val_loss: 0.6140 - val_accuracy: 0.6855\n",
      "Epoch 25/50\n",
      "252/252 [==============================] - 218s 864ms/step - loss: 0.6236 - accuracy: 0.6472 - val_loss: 0.6127 - val_accuracy: 0.6595\n",
      "Epoch 26/50\n",
      "252/252 [==============================] - 199s 789ms/step - loss: 0.6261 - accuracy: 0.6472 - val_loss: 0.6102 - val_accuracy: 0.6730\n",
      "Epoch 27/50\n",
      "252/252 [==============================] - 186s 738ms/step - loss: 0.6168 - accuracy: 0.6615 - val_loss: 0.6380 - val_accuracy: 0.6370\n",
      "Epoch 28/50\n",
      "252/252 [==============================] - 185s 734ms/step - loss: 0.6173 - accuracy: 0.6559 - val_loss: 0.5988 - val_accuracy: 0.6930\n",
      "Epoch 29/50\n",
      "252/252 [==============================] - 187s 743ms/step - loss: 0.6073 - accuracy: 0.6716 - val_loss: 0.6181 - val_accuracy: 0.6735\n",
      "Epoch 30/50\n",
      "252/252 [==============================] - 186s 736ms/step - loss: 0.6049 - accuracy: 0.6691 - val_loss: 0.5836 - val_accuracy: 0.6900\n",
      "Epoch 31/50\n",
      "252/252 [==============================] - 186s 737ms/step - loss: 0.6002 - accuracy: 0.6774 - val_loss: 0.5836 - val_accuracy: 0.7020\n",
      "Epoch 32/50\n",
      "252/252 [==============================] - 186s 739ms/step - loss: 0.5976 - accuracy: 0.6759 - val_loss: 0.5768 - val_accuracy: 0.7050\n",
      "Epoch 33/50\n",
      "252/252 [==============================] - 204s 809ms/step - loss: 0.5997 - accuracy: 0.6727 - val_loss: 0.6060 - val_accuracy: 0.6720\n",
      "Epoch 34/50\n",
      "252/252 [==============================] - 224s 891ms/step - loss: 0.5971 - accuracy: 0.6791 - val_loss: 0.5940 - val_accuracy: 0.6905\n",
      "Epoch 35/50\n",
      "252/252 [==============================] - 199s 789ms/step - loss: 0.5913 - accuracy: 0.6792 - val_loss: 0.5852 - val_accuracy: 0.7035\n",
      "Epoch 36/50\n",
      "252/252 [==============================] - 253s 1s/step - loss: 0.5895 - accuracy: 0.6884 - val_loss: 0.5738 - val_accuracy: 0.7110\n",
      "Epoch 37/50\n",
      "252/252 [==============================] - 241s 957ms/step - loss: 0.5901 - accuracy: 0.6863 - val_loss: 0.5667 - val_accuracy: 0.7185\n",
      "Epoch 38/50\n",
      "252/252 [==============================] - 250s 994ms/step - loss: 0.5871 - accuracy: 0.6860 - val_loss: 0.6492 - val_accuracy: 0.6445\n",
      "Epoch 39/50\n",
      "252/252 [==============================] - 253s 1s/step - loss: 0.5796 - accuracy: 0.6988 - val_loss: 0.5967 - val_accuracy: 0.6995\n",
      "Epoch 40/50\n",
      "252/252 [==============================] - 253s 1s/step - loss: 0.5773 - accuracy: 0.6968 - val_loss: 0.5697 - val_accuracy: 0.7060\n",
      "Epoch 41/50\n",
      "252/252 [==============================] - 272s 1s/step - loss: 0.5769 - accuracy: 0.6952 - val_loss: 0.5801 - val_accuracy: 0.7025\n",
      "Epoch 42/50\n",
      "252/252 [==============================] - 256s 1s/step - loss: 0.5765 - accuracy: 0.6969 - val_loss: 0.6125 - val_accuracy: 0.6675\n",
      "Epoch 43/50\n",
      "252/252 [==============================] - 242s 959ms/step - loss: 0.5767 - accuracy: 0.6938 - val_loss: 0.5928 - val_accuracy: 0.6830\n",
      "Epoch 44/50\n",
      "252/252 [==============================] - 220s 874ms/step - loss: 0.5750 - accuracy: 0.7013 - val_loss: 0.6215 - val_accuracy: 0.6680\n",
      "Epoch 45/50\n",
      "252/252 [==============================] - 220s 873ms/step - loss: 0.5714 - accuracy: 0.7039 - val_loss: 0.5529 - val_accuracy: 0.7195\n",
      "Epoch 46/50\n",
      "252/252 [==============================] - 280s 1s/step - loss: 0.5693 - accuracy: 0.6956 - val_loss: 0.5615 - val_accuracy: 0.7190\n",
      "Epoch 47/50\n",
      "252/252 [==============================] - 264s 1s/step - loss: 0.5682 - accuracy: 0.7076 - val_loss: 0.5630 - val_accuracy: 0.7085\n",
      "Epoch 48/50\n",
      "252/252 [==============================] - 260s 1s/step - loss: 0.5673 - accuracy: 0.7054 - val_loss: 0.5678 - val_accuracy: 0.7145\n",
      "Epoch 49/50\n",
      "252/252 [==============================] - 190s 755ms/step - loss: 0.5622 - accuracy: 0.7073 - val_loss: 0.5785 - val_accuracy: 0.7090\n",
      "Epoch 50/50\n",
      "252/252 [==============================] - 190s 753ms/step - loss: 0.5665 - accuracy: 0.7058 - val_loss: 0.5903 - val_accuracy: 0.6875\n"
     ]
    }
   ],
   "source": [
    "model_history = cnn.fit(x=training_set, validation_data=test_set, epochs=50)"
   ]
  },
  {
   "cell_type": "markdown",
   "metadata": {
    "colab_type": "text",
    "id": "U3PZasO0006Z"
   },
   "source": [
    "## Part 4 - Making a single prediction"
   ]
  },
  {
   "cell_type": "code",
   "execution_count": 89,
   "metadata": {},
   "outputs": [],
   "source": [
    "from keras.preprocessing import image\n",
    "import numpy as np"
   ]
  },
  {
   "cell_type": "code",
   "execution_count": 90,
   "metadata": {},
   "outputs": [
    {
     "name": "stdout",
     "output_type": "stream",
     "text": [
      "dog\n"
     ]
    }
   ],
   "source": [
    "image_set=image.load_img(\"dataset/single_prediction/cat_or_dog_1.jpg\", target_size=(64,64),)\n",
    "image_set=image.img_to_array(image_set)\n",
    "image_set=np.expand_dims(image_set, axis=0)\n",
    "result=cnn.predict(image_set)\n",
    "if result[0][0]==1:\n",
    "    print(\"dog\")\n",
    "else:\n",
    "    print(\"cat\")"
   ]
  },
  {
   "cell_type": "code",
   "execution_count": 91,
   "metadata": {},
   "outputs": [
    {
     "name": "stdout",
     "output_type": "stream",
     "text": [
      "dog\n"
     ]
    }
   ],
   "source": [
    "image_set=image.load_img(\"dataset/single_prediction/cat_or_dog_2.jpg\", target_size=(64,64),)\n",
    "image_set=image.img_to_array(image_set)\n",
    "image_set=np.expand_dims(image_set, axis=0)\n",
    "result=cnn.predict(image_set)\n",
    "if result[0][0]==1:\n",
    "    print(\"dog\")\n",
    "else:\n",
    "    print(\"cat\")"
   ]
  },
  {
   "cell_type": "markdown",
   "metadata": {},
   "source": [
    "# Model Evaluation"
   ]
  },
  {
   "cell_type": "code",
   "execution_count": 92,
   "metadata": {},
   "outputs": [],
   "source": [
    "import matplotlib.pyplot as plt"
   ]
  },
  {
   "cell_type": "code",
   "execution_count": 93,
   "metadata": {},
   "outputs": [
    {
     "name": "stdout",
     "output_type": "stream",
     "text": [
      "dict_keys(['loss', 'accuracy', 'val_loss', 'val_accuracy'])\n"
     ]
    }
   ],
   "source": [
    "print(model_history.history.keys())"
   ]
  },
  {
   "cell_type": "code",
   "execution_count": 94,
   "metadata": {},
   "outputs": [
    {
     "data": {
      "image/png": "[encoded data removed]",
      "text/plain": [
       "<Figure size 576x576 with 1 Axes>"
      ]
     },
     "metadata": {
      "needs_background": "light"
     },
     "output_type": "display_data"
    }
   ],
   "source": [
    "plt.figure(figsize=(8,8))\n",
    "plt.plot(model_history.history[\"accuracy\"])\n",
    "plt.plot(model_history.history[\"val_accuracy\"])\n",
    "plt.ylabel(\"accuracy\")\n",
    "plt.xlabel(\"epochs\")\n",
    "plt.legend([\"train\",\"test\"], loc=\"lower right\")\n",
    "plt.title(\"Model accuracy\")\n",
    "plt.show()"
   ]
  },
  {
   "cell_type": "code",
   "execution_count": 95,
   "metadata": {},
   "outputs": [
    {
     "data": {
      "image/png": "[encoded data removed]",
      "text/plain": [
       "<Figure size 576x576 with 1 Axes>"
      ]
     },
     "metadata": {
      "needs_background": "light"
     },
     "output_type": "display_data"
    }
   ],
   "source": [
    "plt.figure(figsize=(8,8))\n",
    "plt.plot(model_history.history[\"loss\"])\n",
    "plt.plot(model_history.history[\"val_loss\"])\n",
    "plt.ylabel(\"accuracy\")\n",
    "plt.xlabel(\"epochs\")\n",
    "plt.legend([\"train\",\"test\"], loc=\"lower right\")\n",
    "plt.title(\"Model loss\")\n",
    "plt.show()"
   ]
  },
  {
   "cell_type": "code",
   "execution_count": null,
   "metadata": {},
   "outputs": [],
   "source": []
  },
  {
   "cell_type": "code",
   "execution_count": null,
   "metadata": {},
   "outputs": [],
   "source": []
  },
  {
   "cell_type": "code",
   "execution_count": null,
   "metadata": {},
   "outputs": [],
   "source": []
  },
  {
   "cell_type": "code",
   "execution_count": null,
   "metadata": {},
   "outputs": [],
   "source": []
  },
  {
   "cell_type": "code",
   "execution_count": null,
   "metadata": {},
   "outputs": [],
   "source": []
  },
  {
   "cell_type": "code",
   "execution_count": null,
   "metadata": {},
   "outputs": [],
   "source": []
  }
 ],
 "metadata": {
  "colab": {
   "collapsed_sections": [],
   "name": "Copy of convolutional_neural_network.ipynb",
   "provenance": [],
   "toc_visible": true
  },
  "kernelspec": {
   "display_name": "Python 3",
   "language": "python",
   "name": "python3"
  },
  "language_info": {
   "codemirror_mode": {
    "name": "ipython",
    "version": 3
   },
   "file_extension": ".py",
   "mimetype": "text/x-python",
   "name": "python",
   "nbconvert_exporter": "python",
   "pygments_lexer": "ipython3",
   "version": "3.7.7"
  }
 },
 "nbformat": 4,
 "nbformat_minor": 1
}
