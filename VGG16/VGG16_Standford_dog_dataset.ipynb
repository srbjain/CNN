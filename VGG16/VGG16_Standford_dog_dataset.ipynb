{
  "nbformat": 4,
  "nbformat_minor": 0,
  "metadata": {
    "colab": {
      "name": "VGG16_Standford_dog_dataset.ipynb",
      "provenance": []
    },
    "kernelspec": {
      "name": "python3",
      "display_name": "Python 3"
    },
    "accelerator": "GPU"
  },
  "cells": [
    {
      "cell_type": "code",
      "metadata": {
        "id": "MtdhUQR7vsym",
        "outputId": "c6f67832-e234-45c3-84c5-5b2e2c578157",
        "colab": {
          "base_uri": "https://localhost:8080/"
        }
      },
      "source": [
        "!nvidia-smi -L"
      ],
      "execution_count": 1,
      "outputs": [
        {
          "output_type": "stream",
          "text": [
            "GPU 0: Tesla T4 (UUID: GPU-6d8abed3-e66e-ac8f-ae77-0d8c7bc01921)\n"
          ],
          "name": "stdout"
        }
      ]
    },
    {
      "cell_type": "code",
      "metadata": {
        "id": "IPPTkwhBSpQT",
        "outputId": "ce01c366-68e8-40ab-acd5-eca3fb32a0f8",
        "colab": {
          "base_uri": "https://localhost:8080/"
        }
      },
      "source": [
        "from google.colab import drive \n",
        "drive.mount('/content/drive')"
      ],
      "execution_count": 2,
      "outputs": [
        {
          "output_type": "stream",
          "text": [
            "Mounted at /content/drive\n"
          ],
          "name": "stdout"
        }
      ]
    },
    {
      "cell_type": "code",
      "metadata": {
        "id": "38rXtu3QTFAC",
        "outputId": "9599b8c0-66ac-4328-9d12-908963ea2338",
        "colab": {
          "base_uri": "https://localhost:8080/"
        }
      },
      "source": [
        "%cd drive/My Drive/dataset/standford_dog_breed_dataset/images"
      ],
      "execution_count": 3,
      "outputs": [
        {
          "output_type": "stream",
          "text": [
            "/content/drive/My Drive/dataset/standford_dog_breed_dataset/images\n"
          ],
          "name": "stdout"
        }
      ]
    },
    {
      "cell_type": "code",
      "metadata": {
        "id": "Gc68wZU07nOw"
      },
      "source": [
        "# Download all required Libraries\n",
        "from tensorflow.keras.applications import ResNet50,VGG16,MobileNetV2\n",
        "from tensorflow.keras.preprocessing.image import ImageDataGenerator\n",
        "from tensorflow.keras.datasets import mnist\n",
        "from sklearn.model_selection import train_test_split\n",
        "from tensorflow.keras.utils import to_categorical\n",
        "from tensorflow.keras import Sequential\n",
        "from tensorflow.keras.layers import GlobalAveragePooling2D, Dense, AveragePooling2D, Flatten, Input, Dropout\n",
        "from imutils import paths\n",
        "from tensorflow.keras.applications.vgg16 import preprocess_input\n",
        "from tensorflow.keras.preprocessing.image import img_to_array\n",
        "from tensorflow.keras.preprocessing.image import load_img\n",
        "from tensorflow.keras.optimizers import Adam\n",
        "from tensorflow.keras.models import Model\n",
        "import os\n",
        "import numpy as np\n",
        "from sklearn.preprocessing import LabelBinarizer\n",
        "from sklearn.model_selection import train_test_split"
      ],
      "execution_count": 5,
      "outputs": []
    },
    {
      "cell_type": "code",
      "metadata": {
        "id": "Cxke78dTDMQV"
      },
      "source": [
        "# construct the training image generator for data augmentation\n",
        "aug = ImageDataGenerator(\n",
        "\t\t\t\t\t\t\t\t\t\t\t\t\t\trotation_range=20,\n",
        "\t\t\t\t\t\t\t\t\t\t\t\t\t\tzoom_range=0.15,\n",
        "\t\t\t\t\t\t\t\t\t\t\t\t\t\twidth_shift_range=0.2,\n",
        "\t\t\t\t\t\t\t\t\t\t\t\t\t\theight_shift_range=0.2,\n",
        "\t\t\t\t\t\t\t\t\t\t\t\t\t\tshear_range=0.15,\n",
        "\t\t\t\t\t\t\t\t\t\t\t\t\t\thorizontal_flip=True,\n",
        "\t\t\t\t\t\t\t\t\t\t\t\t\t\tfill_mode=\"nearest\"\n",
        "\t\t\t\t\t\t\t\t\t\t\t\t)"
      ],
      "execution_count": 7,
      "outputs": []
    },
    {
      "cell_type": "code",
      "metadata": {
        "id": "qLesBcQZBqsq",
        "outputId": "09bd4714-4924-47e9-9004-1fc187c0ee1b",
        "colab": {
          "base_uri": "https://localhost:8080/"
        }
      },
      "source": [
        "# Create Base model excluding Top\n",
        "baseModel = VGG16(include_top=False, input_tensor=Input(shape=(224, 224, 3)))\n",
        "\n",
        "# loop over all layers in the base model and freeze them so they will NOT be updated during the first training process\n",
        "for layer in baseModel.layers:\n",
        "\tlayer.trainable = False"
      ],
      "execution_count": 8,
      "outputs": [
        {
          "output_type": "stream",
          "text": [
            "Downloading data from https://storage.googleapis.com/tensorflow/keras-applications/vgg16/vgg16_weights_tf_dim_ordering_tf_kernels_notop.h5\n",
            "58892288/58889256 [==============================] - 0s 0us/step\n"
          ],
          "name": "stdout"
        }
      ]
    },
    {
      "cell_type": "code",
      "metadata": {
        "id": "zz8_pVs8En9D"
      },
      "source": [
        "# construct the head of the model that will be placed on top of the base model\n",
        "headModel = baseModel.output\n",
        "headModel = GlobalAveragePooling2D()(headModel)\n",
        "headModel = Dense(120, activation=\"softmax\")(headModel)\n",
        "\n",
        "# place the head FC model on top of the base model (this will become the actual model we will train)\n",
        "model = Model(inputs=baseModel.input, outputs=headModel)"
      ],
      "execution_count": 9,
      "outputs": []
    },
    {
      "cell_type": "code",
      "metadata": {
        "id": "hiZhPNf_FE7D"
      },
      "source": [
        "# Define all hyperparameters\n",
        "INIT_LR = 0.0001\n",
        "EPOCHS = 100\n",
        "BS = 256\n",
        "# Define loss, optimizer and metrics\n",
        "opt = Adam(learning_rate=INIT_LR)\n",
        "model.compile(loss=\"categorical_crossentropy\", optimizer=opt, metrics=[\"accuracy\"])"
      ],
      "execution_count": 10,
      "outputs": []
    },
    {
      "cell_type": "code",
      "metadata": {
        "id": "-kBUQA8zKRLU",
        "outputId": "2cb88305-f204-49f5-8f74-bd8c7370ed41",
        "colab": {
          "base_uri": "https://localhost:8080/"
        }
      },
      "source": [
        "model.summary()"
      ],
      "execution_count": 11,
      "outputs": [
        {
          "output_type": "stream",
          "text": [
            "Model: \"functional_1\"\n",
            "_________________________________________________________________\n",
            "Layer (type)                 Output Shape              Param #   \n",
            "=================================================================\n",
            "input_1 (InputLayer)         [(None, 224, 224, 3)]     0         \n",
            "_________________________________________________________________\n",
            "block1_conv1 (Conv2D)        (None, 224, 224, 64)      1792      \n",
            "_________________________________________________________________\n",
            "block1_conv2 (Conv2D)        (None, 224, 224, 64)      36928     \n",
            "_________________________________________________________________\n",
            "block1_pool (MaxPooling2D)   (None, 112, 112, 64)      0         \n",
            "_________________________________________________________________\n",
            "block2_conv1 (Conv2D)        (None, 112, 112, 128)     73856     \n",
            "_________________________________________________________________\n",
            "block2_conv2 (Conv2D)        (None, 112, 112, 128)     147584    \n",
            "_________________________________________________________________\n",
            "block2_pool (MaxPooling2D)   (None, 56, 56, 128)       0         \n",
            "_________________________________________________________________\n",
            "block3_conv1 (Conv2D)        (None, 56, 56, 256)       295168    \n",
            "_________________________________________________________________\n",
            "block3_conv2 (Conv2D)        (None, 56, 56, 256)       590080    \n",
            "_________________________________________________________________\n",
            "block3_conv3 (Conv2D)        (None, 56, 56, 256)       590080    \n",
            "_________________________________________________________________\n",
            "block3_pool (MaxPooling2D)   (None, 28, 28, 256)       0         \n",
            "_________________________________________________________________\n",
            "block4_conv1 (Conv2D)        (None, 28, 28, 512)       1180160   \n",
            "_________________________________________________________________\n",
            "block4_conv2 (Conv2D)        (None, 28, 28, 512)       2359808   \n",
            "_________________________________________________________________\n",
            "block4_conv3 (Conv2D)        (None, 28, 28, 512)       2359808   \n",
            "_________________________________________________________________\n",
            "block4_pool (MaxPooling2D)   (None, 14, 14, 512)       0         \n",
            "_________________________________________________________________\n",
            "block5_conv1 (Conv2D)        (None, 14, 14, 512)       2359808   \n",
            "_________________________________________________________________\n",
            "block5_conv2 (Conv2D)        (None, 14, 14, 512)       2359808   \n",
            "_________________________________________________________________\n",
            "block5_conv3 (Conv2D)        (None, 14, 14, 512)       2359808   \n",
            "_________________________________________________________________\n",
            "block5_pool (MaxPooling2D)   (None, 7, 7, 512)         0         \n",
            "_________________________________________________________________\n",
            "global_average_pooling2d (Gl (None, 512)               0         \n",
            "_________________________________________________________________\n",
            "dense (Dense)                (None, 120)               61560     \n",
            "=================================================================\n",
            "Total params: 14,776,248\n",
            "Trainable params: 61,560\n",
            "Non-trainable params: 14,714,688\n",
            "_________________________________________________________________\n"
          ],
          "name": "stdout"
        }
      ]
    },
    {
      "cell_type": "code",
      "metadata": {
        "id": "DikIBSSTCTjH",
        "outputId": "beaa82dd-ebfe-40e4-90c3-d6669ea79363",
        "colab": {
          "base_uri": "https://localhost:8080/"
        }
      },
      "source": [
        "H = model.fit( \n",
        "\t\t\t\t\t\t\t\taug.flow_from_directory(\"Images\", batch_size=BS, target_size=(224, 224)),\n",
        "\t\t\t\t\t\t\t\tepochs=EPOCHS,\n",
        "\t\t\t\t\t\t\t\tverbose=1\n",
        "\t\t\t\t\t\t\t)"
      ],
      "execution_count": null,
      "outputs": [
        {
          "output_type": "stream",
          "text": [
            "Found 20254 images belonging to 120 classes.\n",
            "Epoch 1/100\n",
            "80/80 [==============================] - 6918s 86s/step - loss: 15.7725 - accuracy: 0.0088\n",
            "Epoch 2/100\n",
            "80/80 [==============================] - 318s 4s/step - loss: 12.3473 - accuracy: 0.0151\n",
            "Epoch 3/100\n",
            "80/80 [==============================] - 315s 4s/step - loss: 10.6958 - accuracy: 0.0232\n",
            "Epoch 4/100\n",
            "80/80 [==============================] - 313s 4s/step - loss: 9.4323 - accuracy: 0.0387\n",
            "Epoch 5/100\n",
            "80/80 [==============================] - 307s 4s/step - loss: 8.4239 - accuracy: 0.0527\n",
            "Epoch 6/100\n",
            "80/80 [==============================] - 307s 4s/step - loss: 7.5605 - accuracy: 0.0698\n",
            "Epoch 7/100\n",
            "80/80 [==============================] - 311s 4s/step - loss: 6.9148 - accuracy: 0.0905\n",
            "Epoch 8/100\n",
            "80/80 [==============================] - 309s 4s/step - loss: 6.3997 - accuracy: 0.1103\n",
            "Epoch 9/100\n",
            "80/80 [==============================] - 303s 4s/step - loss: 5.9548 - accuracy: 0.1285\n",
            "Epoch 10/100\n",
            "80/80 [==============================] - 304s 4s/step - loss: 5.5567 - accuracy: 0.1508\n",
            "Epoch 11/100\n",
            "80/80 [==============================] - 300s 4s/step - loss: 5.2694 - accuracy: 0.1666\n",
            "Epoch 12/100\n",
            "80/80 [==============================] - 301s 4s/step - loss: 5.0170 - accuracy: 0.1832\n",
            "Epoch 13/100\n",
            "80/80 [==============================] - 304s 4s/step - loss: 4.7395 - accuracy: 0.2038\n",
            "Epoch 14/100\n",
            "80/80 [==============================] - 304s 4s/step - loss: 4.5450 - accuracy: 0.2152\n",
            "Epoch 15/100\n",
            "80/80 [==============================] - 307s 4s/step - loss: 4.3491 - accuracy: 0.2349\n",
            "Epoch 16/100\n",
            "80/80 [==============================] - 306s 4s/step - loss: 4.1494 - accuracy: 0.2492\n",
            "Epoch 17/100\n",
            "80/80 [==============================] - 302s 4s/step - loss: 4.0136 - accuracy: 0.2628\n",
            "Epoch 18/100\n",
            "80/80 [==============================] - 301s 4s/step - loss: 3.8732 - accuracy: 0.2726\n",
            "Epoch 19/100\n",
            "80/80 [==============================] - 301s 4s/step - loss: 3.7526 - accuracy: 0.2841\n",
            "Epoch 20/100\n",
            "80/80 [==============================] - 299s 4s/step - loss: 3.6714 - accuracy: 0.2921\n",
            "Epoch 21/100\n",
            "80/80 [==============================] - 300s 4s/step - loss: 3.5258 - accuracy: 0.3107\n",
            "Epoch 22/100\n",
            "80/80 [==============================] - 302s 4s/step - loss: 3.4410 - accuracy: 0.3175\n",
            "Epoch 23/100\n",
            "80/80 [==============================] - 301s 4s/step - loss: 3.3475 - accuracy: 0.3273\n",
            "Epoch 24/100\n",
            "80/80 [==============================] - 301s 4s/step - loss: 3.2748 - accuracy: 0.3359\n",
            "Epoch 25/100\n",
            "80/80 [==============================] - 300s 4s/step - loss: 3.1756 - accuracy: 0.3479\n",
            "Epoch 26/100\n",
            "80/80 [==============================] - 306s 4s/step - loss: 3.0961 - accuracy: 0.3516\n",
            "Epoch 27/100\n",
            "80/80 [==============================] - 310s 4s/step - loss: 3.0430 - accuracy: 0.3637\n",
            "Epoch 28/100\n",
            "80/80 [==============================] - 311s 4s/step - loss: 2.9687 - accuracy: 0.3738\n",
            "Epoch 29/100\n",
            "80/80 [==============================] - 314s 4s/step - loss: 2.8918 - accuracy: 0.3737\n",
            "Epoch 30/100\n",
            "80/80 [==============================] - 314s 4s/step - loss: 2.8467 - accuracy: 0.3838\n",
            "Epoch 31/100\n",
            "80/80 [==============================] - 315s 4s/step - loss: 2.8081 - accuracy: 0.3857\n",
            "Epoch 32/100\n",
            "80/80 [==============================] - 317s 4s/step - loss: 2.7543 - accuracy: 0.4000\n",
            "Epoch 33/100\n",
            "80/80 [==============================] - 315s 4s/step - loss: 2.6740 - accuracy: 0.4072\n",
            "Epoch 34/100\n",
            "80/80 [==============================] - 316s 4s/step - loss: 2.6462 - accuracy: 0.4114\n",
            "Epoch 35/100\n",
            "80/80 [==============================] - 316s 4s/step - loss: 2.5915 - accuracy: 0.4175\n",
            "Epoch 36/100\n",
            "80/80 [==============================] - 317s 4s/step - loss: 2.5378 - accuracy: 0.4253\n",
            "Epoch 37/100\n",
            "80/80 [==============================] - 317s 4s/step - loss: 2.5089 - accuracy: 0.4266\n",
            "Epoch 38/100\n",
            "80/80 [==============================] - 320s 4s/step - loss: 2.4911 - accuracy: 0.4320\n",
            "Epoch 39/100\n",
            "80/80 [==============================] - 319s 4s/step - loss: 2.4130 - accuracy: 0.4438\n",
            "Epoch 40/100\n",
            "80/80 [==============================] - 319s 4s/step - loss: 2.3933 - accuracy: 0.4407\n",
            "Epoch 41/100\n",
            "80/80 [==============================] - 320s 4s/step - loss: 2.3625 - accuracy: 0.4502\n",
            "Epoch 42/100\n",
            "80/80 [==============================] - 322s 4s/step - loss: 2.3060 - accuracy: 0.4566\n",
            "Epoch 43/100\n",
            "80/80 [==============================] - 318s 4s/step - loss: 2.2908 - accuracy: 0.4585\n",
            "Epoch 44/100\n",
            "80/80 [==============================] - 320s 4s/step - loss: 2.2488 - accuracy: 0.4660\n",
            "Epoch 45/100\n",
            "80/80 [==============================] - 317s 4s/step - loss: 2.2147 - accuracy: 0.4705\n",
            "Epoch 46/100\n",
            "80/80 [==============================] - 317s 4s/step - loss: 2.1877 - accuracy: 0.4730\n",
            "Epoch 47/100\n",
            "80/80 [==============================] - 318s 4s/step - loss: 2.1674 - accuracy: 0.4780\n",
            "Epoch 48/100\n",
            "80/80 [==============================] - 319s 4s/step - loss: 2.1261 - accuracy: 0.4842\n",
            "Epoch 49/100\n",
            "80/80 [==============================] - 319s 4s/step - loss: 2.1255 - accuracy: 0.4799\n",
            "Epoch 50/100\n",
            "80/80 [==============================] - 319s 4s/step - loss: 2.0917 - accuracy: 0.4898\n",
            "Epoch 51/100\n",
            "80/80 [==============================] - 321s 4s/step - loss: 2.0611 - accuracy: 0.4957\n",
            "Epoch 52/100\n",
            "80/80 [==============================] - 323s 4s/step - loss: 2.0412 - accuracy: 0.4956\n",
            "Epoch 53/100\n",
            "80/80 [==============================] - 325s 4s/step - loss: 2.0283 - accuracy: 0.4977\n",
            "Epoch 54/100\n",
            "80/80 [==============================] - 325s 4s/step - loss: 1.9826 - accuracy: 0.5056\n",
            "Epoch 55/100\n",
            "80/80 [==============================] - 322s 4s/step - loss: 1.9705 - accuracy: 0.5074\n",
            "Epoch 56/100\n",
            "80/80 [==============================] - 322s 4s/step - loss: 1.9503 - accuracy: 0.5165\n",
            "Epoch 57/100\n",
            "80/80 [==============================] - 325s 4s/step - loss: 1.9139 - accuracy: 0.5187\n",
            "Epoch 58/100\n",
            "80/80 [==============================] - 327s 4s/step - loss: 1.9053 - accuracy: 0.5195\n",
            "Epoch 59/100\n",
            "80/80 [==============================] - 325s 4s/step - loss: 1.8787 - accuracy: 0.5230\n",
            "Epoch 60/100\n",
            "80/80 [==============================] - 325s 4s/step - loss: 1.8646 - accuracy: 0.5270\n",
            "Epoch 61/100\n",
            "80/80 [==============================] - 326s 4s/step - loss: 1.8332 - accuracy: 0.5292\n",
            "Epoch 62/100\n",
            "80/80 [==============================] - 322s 4s/step - loss: 1.8293 - accuracy: 0.5318\n",
            "Epoch 63/100\n",
            "80/80 [==============================] - 322s 4s/step - loss: 1.8105 - accuracy: 0.5384\n",
            "Epoch 64/100\n",
            "80/80 [==============================] - 321s 4s/step - loss: 1.8052 - accuracy: 0.5370\n",
            "Epoch 65/100\n",
            "80/80 [==============================] - 322s 4s/step - loss: 1.7817 - accuracy: 0.5412\n",
            "Epoch 66/100\n",
            "80/80 [==============================] - 322s 4s/step - loss: 1.7744 - accuracy: 0.5407\n",
            "Epoch 67/100\n",
            "80/80 [==============================] - 321s 4s/step - loss: 1.7361 - accuracy: 0.5463\n",
            "Epoch 68/100\n",
            "80/80 [==============================] - 321s 4s/step - loss: 1.7198 - accuracy: 0.5516\n",
            "Epoch 69/100\n",
            "80/80 [==============================] - 323s 4s/step - loss: 1.7159 - accuracy: 0.5516\n",
            "Epoch 70/100\n",
            "80/80 [==============================] - 322s 4s/step - loss: 1.6976 - accuracy: 0.5605\n",
            "Epoch 71/100\n",
            "80/80 [==============================] - 322s 4s/step - loss: 1.6672 - accuracy: 0.5602\n",
            "Epoch 72/100\n",
            "80/80 [==============================] - 322s 4s/step - loss: 1.6762 - accuracy: 0.5622\n",
            "Epoch 73/100\n",
            "80/80 [==============================] - 323s 4s/step - loss: 1.6542 - accuracy: 0.5653\n",
            "Epoch 74/100\n",
            " 3/80 [>.............................] - ETA: 3:28 - loss: 1.6820 - accuracy: 0.5339"
          ],
          "name": "stdout"
        }
      ]
    }
  ]
}