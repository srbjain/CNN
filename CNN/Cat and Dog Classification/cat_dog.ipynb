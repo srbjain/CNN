{
 "cells": [
  {
   "cell_type": "markdown",
   "metadata": {
    "colab_type": "text",
    "id": "3DR-eO17geWu"
   },
   "source": [
    "# Convolutional Neural Network"
   ]
  },
  {
   "cell_type": "markdown",
   "metadata": {
    "colab_type": "text",
    "id": "EMefrVPCg-60"
   },
   "source": [
    "### Importing the libraries"
   ]
  },
  {
   "cell_type": "code",
   "execution_count": 4,
   "metadata": {
    "colab": {},
    "colab_type": "code",
    "id": "JDqAEvyaA3ny"
   },
   "outputs": [],
   "source": [
    "import tensorflow as tf\n",
    "from keras.preprocessing.image import ImageDataGenerator"
   ]
  },
  {
   "cell_type": "markdown",
   "metadata": {
    "colab_type": "text",
    "id": "oxQxCBWyoGPE"
   },
   "source": [
    "## Part 1 - Data Preprocessing"
   ]
  },
  {
   "cell_type": "markdown",
   "metadata": {
    "colab_type": "text",
    "id": "MvE-heJNo3GG"
   },
   "source": [
    "### Preprocessing the Training set"
   ]
  },
  {
   "cell_type": "code",
   "execution_count": 5,
   "metadata": {
    "colab": {},
    "colab_type": "code",
    "id": "W-AQvsPCByx0"
   },
   "outputs": [
    {
     "name": "stdout",
     "output_type": "stream",
     "text": [
      "Found 8048 images belonging to 2 classes.\n"
     ]
    }
   ],
   "source": [
    "# ImageDataGenerator make variation of same set of images in each epochs, \n",
    "# without changing/increasing the original dataset but instead making it more versatile.\n",
    "\n",
    "train_datagen=ImageDataGenerator(\n",
    "                          rescale=1./255,\n",
    "                          zoom_range=0.2,\n",
    "                          shear_range=0.2,\n",
    "                          vertical_flip=True,\n",
    "                          horizontal_flip=True,\n",
    "                          width_shift_range=0.2,\n",
    "                          height_shift_range=0.2\n",
    "                      )\n",
    "\n",
    "training_set = train_datagen.flow_from_directory(\n",
    "                                                    \"dataset/training_set\",\n",
    "                                                    target_size=(64,64),\n",
    "                                                    class_mode=\"binary\",\n",
    "                                                    batch_size=32\n",
    "                                                 )    "
   ]
  },
  {
   "cell_type": "markdown",
   "metadata": {
    "colab_type": "text",
    "id": "mrCMmGw9pHys"
   },
   "source": [
    "### Preprocessing the Test set"
   ]
  },
  {
   "cell_type": "code",
   "execution_count": 6,
   "metadata": {
    "colab": {},
    "colab_type": "code",
    "id": "ixGpWvANIyz3"
   },
   "outputs": [
    {
     "name": "stdout",
     "output_type": "stream",
     "text": [
      "Found 2000 images belonging to 2 classes.\n"
     ]
    }
   ],
   "source": [
    "test_datagen=ImageDataGenerator(  rescale=1./255  )\n",
    "\n",
    "test_set = test_datagen.flow_from_directory(\n",
    "                                    \"dataset/test_set\",\n",
    "                                    target_size=(64,64),\n",
    "                                    class_mode=\"binary\",\n",
    "                                    batch_size=32\n",
    "                                 )    "
   ]
  },
  {
   "cell_type": "markdown",
   "metadata": {
    "colab_type": "text",
    "id": "af8O4l90gk7B"
   },
   "source": [
    "## Part 2 - Building the CNN"
   ]
  },
  {
   "cell_type": "markdown",
   "metadata": {
    "colab_type": "text",
    "id": "ces1gXY2lmoX"
   },
   "source": [
    "### Initialising the CNN"
   ]
  },
  {
   "cell_type": "code",
   "execution_count": 7,
   "metadata": {
    "colab": {},
    "colab_type": "code",
    "id": "A0SxakWClFs0"
   },
   "outputs": [],
   "source": [
    "cnn=tf.keras.Sequential()"
   ]
  },
  {
   "cell_type": "markdown",
   "metadata": {
    "colab_type": "text",
    "id": "u5YJj_XMl5LF"
   },
   "source": [
    "### Step 1 - Convolution"
   ]
  },
  {
   "cell_type": "code",
   "execution_count": 8,
   "metadata": {
    "colab": {},
    "colab_type": "code",
    "id": "Tcs7uls5loXg"
   },
   "outputs": [],
   "source": [
    "# Param = input * output + bias\n",
    "# Param = (no of nodes) * (no of filter * size of filter) + (no of filter)\n",
    "# Param = 3 (rgb) * (100 * 5 * 5) + 100 = 7600\n",
    "cnn.add(tf.keras.layers.Conv2D(filters=100,kernel_size=5, activation=\"relu\",input_shape=[64,64,3]))"
   ]
  },
  {
   "cell_type": "markdown",
   "metadata": {
    "colab_type": "text",
    "id": "tf87FpvxmNOJ"
   },
   "source": [
    "### Step 2 - Pooling"
   ]
  },
  {
   "cell_type": "code",
   "execution_count": 9,
   "metadata": {
    "colab": {},
    "colab_type": "code",
    "id": "r5XFRwMMnIMA"
   },
   "outputs": [],
   "source": [
    "# Param =  \n",
    "cnn.add(tf.keras.layers.MaxPool2D(pool_size=2,strides=2))"
   ]
  },
  {
   "cell_type": "markdown",
   "metadata": {
    "colab_type": "text",
    "id": "xaTOgD8rm4mU"
   },
   "source": [
    "### Adding a second convolutional layer"
   ]
  },
  {
   "cell_type": "code",
   "execution_count": 10,
   "metadata": {
    "colab": {},
    "colab_type": "code",
    "id": "zWmWr39_nmnH"
   },
   "outputs": [],
   "source": [
    "# Param = input * output + bias\n",
    "# Param = (previous layer filters) * (no of filter * size of filter) + (no of filter)\n",
    "# Param = (100) * (100 * 5 * 5) + 100 = 250100\n",
    "cnn.add(tf.keras.layers.Conv2D(filters=100,kernel_size=5,activation=\"relu\"))\n",
    "cnn.add(tf.keras.layers.MaxPool2D(pool_size=2,strides=2))"
   ]
  },
  {
   "cell_type": "markdown",
   "metadata": {
    "colab_type": "text",
    "id": "tmiEuvTunKfk"
   },
   "source": [
    "### Step 3 - Flattening"
   ]
  },
  {
   "cell_type": "code",
   "execution_count": 11,
   "metadata": {
    "colab": {},
    "colab_type": "code",
    "id": "dW01VEfkoP28"
   },
   "outputs": [],
   "source": [
    "# Param = (13) * (13) * 100 = 16900\n",
    "cnn.add(tf.keras.layers.Flatten())"
   ]
  },
  {
   "cell_type": "markdown",
   "metadata": {
    "colab_type": "text",
    "id": "dAoSECOm203v"
   },
   "source": [
    "### Step 4 - Full Connection"
   ]
  },
  {
   "cell_type": "code",
   "execution_count": 12,
   "metadata": {
    "colab": {},
    "colab_type": "code",
    "id": "kFilk7d8ogrm"
   },
   "outputs": [],
   "source": [
    "# Param = (16900) * (128) + 128 = 2163328\n",
    "cnn.add(tf.keras.layers.Dense(units=128, activation=\"relu\"))\n",
    "# Param = (128) * (128) + 128 = 16512\n",
    "cnn.add(tf.keras.layers.Dense(units=128, activation=\"relu\"))"
   ]
  },
  {
   "cell_type": "markdown",
   "metadata": {
    "colab_type": "text",
    "id": "yTldFvbX28Na"
   },
   "source": [
    "### Step 5 - Output Layer"
   ]
  },
  {
   "cell_type": "code",
   "execution_count": 13,
   "metadata": {
    "colab": {},
    "colab_type": "code",
    "id": "RyiWIjKGpuTk"
   },
   "outputs": [],
   "source": [
    "cnn.add(tf.keras.layers.Dense(units=1, activation=\"sigmoid\"))"
   ]
  },
  {
   "cell_type": "code",
   "execution_count": 14,
   "metadata": {},
   "outputs": [
    {
     "name": "stdout",
     "output_type": "stream",
     "text": [
      "Model: \"sequential\"\n",
      "_________________________________________________________________\n",
      "Layer (type)                 Output Shape              Param #   \n",
      "=================================================================\n",
      "conv2d (Conv2D)              (None, 60, 60, 100)       7600      \n",
      "_________________________________________________________________\n",
      "max_pooling2d (MaxPooling2D) (None, 30, 30, 100)       0         \n",
      "_________________________________________________________________\n",
      "conv2d_1 (Conv2D)            (None, 26, 26, 100)       250100    \n",
      "_________________________________________________________________\n",
      "max_pooling2d_1 (MaxPooling2 (None, 13, 13, 100)       0         \n",
      "_________________________________________________________________\n",
      "flatten (Flatten)            (None, 16900)             0         \n",
      "_________________________________________________________________\n",
      "dense (Dense)                (None, 128)               2163328   \n",
      "_________________________________________________________________\n",
      "dense_1 (Dense)              (None, 128)               16512     \n",
      "_________________________________________________________________\n",
      "dense_2 (Dense)              (None, 1)                 129       \n",
      "=================================================================\n",
      "Total params: 2,437,669\n",
      "Trainable params: 2,437,669\n",
      "Non-trainable params: 0\n",
      "_________________________________________________________________\n"
     ]
    }
   ],
   "source": [
    "cnn.summary()"
   ]
  },
  {
   "cell_type": "markdown",
   "metadata": {
    "colab_type": "text",
    "id": "D6XkI90snSDl"
   },
   "source": [
    "## Part 3 - Training the CNN"
   ]
  },
  {
   "cell_type": "markdown",
   "metadata": {
    "colab_type": "text",
    "id": "vfrFQACEnc6i"
   },
   "source": [
    "### Compiling the CNN"
   ]
  },
  {
   "cell_type": "code",
   "execution_count": 15,
   "metadata": {
    "colab": {},
    "colab_type": "code",
    "id": "JGS6Pwiyrrql"
   },
   "outputs": [],
   "source": [
    "cnn.compile(optimizer=\"adam\", loss=\"binary_crossentropy\", metrics=[\"accuracy\"])"
   ]
  },
  {
   "cell_type": "markdown",
   "metadata": {
    "colab_type": "text",
    "id": "ehS-v3MIpX2h"
   },
   "source": [
    "### Training the CNN on the Training set and evaluating it on the Test set"
   ]
  },
  {
   "cell_type": "code",
   "execution_count": 16,
   "metadata": {
    "colab": {},
    "colab_type": "code",
    "id": "Yf-7lPcisUc4"
   },
   "outputs": [
    {
     "name": "stdout",
     "output_type": "stream",
     "text": [
      "WARNING:tensorflow:sample_weight modes were coerced from\n",
      "  ...\n",
      "    to  \n",
      "  ['...']\n",
      "WARNING:tensorflow:sample_weight modes were coerced from\n",
      "  ...\n",
      "    to  \n",
      "  ['...']\n",
      "Train for 252 steps, validate for 63 steps\n",
      "Epoch 1/35\n",
      "252/252 [==============================] - 204s 811ms/step - loss: 0.6939 - accuracy: 0.5094 - val_loss: 0.6902 - val_accuracy: 0.5245\n",
      "Epoch 2/35\n",
      "252/252 [==============================] - 176s 699ms/step - loss: 0.6890 - accuracy: 0.5364 - val_loss: 0.6848 - val_accuracy: 0.5675\n",
      "Epoch 3/35\n",
      "252/252 [==============================] - 177s 701ms/step - loss: 0.6840 - accuracy: 0.5533 - val_loss: 0.6814 - val_accuracy: 0.5680\n",
      "Epoch 4/35\n",
      "252/252 [==============================] - 245s 972ms/step - loss: 0.6869 - accuracy: 0.5444 - val_loss: 0.6854 - val_accuracy: 0.5555\n",
      "Epoch 5/35\n",
      "252/252 [==============================] - 234s 929ms/step - loss: 0.6843 - accuracy: 0.5564 - val_loss: 0.6770 - val_accuracy: 0.5690\n",
      "Epoch 6/35\n",
      "252/252 [==============================] - 224s 888ms/step - loss: 0.6844 - accuracy: 0.5541 - val_loss: 0.6748 - val_accuracy: 0.5895\n",
      "Epoch 7/35\n",
      "252/252 [==============================] - 221s 879ms/step - loss: 0.6803 - accuracy: 0.5641 - val_loss: 0.6773 - val_accuracy: 0.5780\n",
      "Epoch 8/35\n",
      "252/252 [==============================] - 197s 781ms/step - loss: 0.6785 - accuracy: 0.5729 - val_loss: 0.6794 - val_accuracy: 0.5775\n",
      "Epoch 9/35\n",
      "252/252 [==============================] - 211s 836ms/step - loss: 0.6789 - accuracy: 0.5670 - val_loss: 0.6703 - val_accuracy: 0.5910\n",
      "Epoch 10/35\n",
      "252/252 [==============================] - 225s 893ms/step - loss: 0.6750 - accuracy: 0.5805 - val_loss: 0.6679 - val_accuracy: 0.5870\n",
      "Epoch 11/35\n",
      "252/252 [==============================] - 223s 884ms/step - loss: 0.6776 - accuracy: 0.5709 - val_loss: 0.6656 - val_accuracy: 0.6170\n",
      "Epoch 12/35\n",
      "252/252 [==============================] - 237s 941ms/step - loss: 0.6696 - accuracy: 0.5905 - val_loss: 0.6482 - val_accuracy: 0.6510\n",
      "Epoch 13/35\n",
      "252/252 [==============================] - 238s 945ms/step - loss: 0.6543 - accuracy: 0.6221 - val_loss: 0.6255 - val_accuracy: 0.6615\n",
      "Epoch 14/35\n",
      "252/252 [==============================] - 240s 954ms/step - loss: 0.6436 - accuracy: 0.6291 - val_loss: 0.6293 - val_accuracy: 0.6570\n",
      "Epoch 15/35\n",
      "252/252 [==============================] - 238s 943ms/step - loss: 0.6377 - accuracy: 0.6302 - val_loss: 0.6090 - val_accuracy: 0.6790\n",
      "Epoch 16/35\n",
      "252/252 [==============================] - 230s 913ms/step - loss: 0.6267 - accuracy: 0.6480 - val_loss: 0.6155 - val_accuracy: 0.6695\n",
      "Epoch 17/35\n",
      "252/252 [==============================] - 184s 732ms/step - loss: 0.6207 - accuracy: 0.6544 - val_loss: 0.5941 - val_accuracy: 0.6915\n",
      "Epoch 18/35\n",
      "252/252 [==============================] - 173s 688ms/step - loss: 0.6164 - accuracy: 0.6604 - val_loss: 0.5891 - val_accuracy: 0.6965\n",
      "Epoch 19/35\n",
      "252/252 [==============================] - 186s 736ms/step - loss: 0.6085 - accuracy: 0.6691 - val_loss: 0.5917 - val_accuracy: 0.6955\n",
      "Epoch 20/35\n",
      "252/252 [==============================] - 2514s 10s/step - loss: 0.6079 - accuracy: 0.6707 - val_loss: 0.5733 - val_accuracy: 0.6985\n",
      "Epoch 21/35\n",
      "252/252 [==============================] - 170s 676ms/step - loss: 0.6040 - accuracy: 0.6754 - val_loss: 0.5912 - val_accuracy: 0.6845\n",
      "Epoch 22/35\n",
      "252/252 [==============================] - 167s 663ms/step - loss: 0.6023 - accuracy: 0.6716 - val_loss: 0.5689 - val_accuracy: 0.7090\n",
      "Epoch 23/35\n",
      "252/252 [==============================] - 174s 692ms/step - loss: 0.5944 - accuracy: 0.6815 - val_loss: 0.5628 - val_accuracy: 0.7155\n",
      "Epoch 24/35\n",
      "252/252 [==============================] - 176s 700ms/step - loss: 0.5914 - accuracy: 0.6776 - val_loss: 0.5888 - val_accuracy: 0.6895\n",
      "Epoch 25/35\n",
      "252/252 [==============================] - 2549s 10s/step - loss: 0.5906 - accuracy: 0.6846 - val_loss: 0.5731 - val_accuracy: 0.7070\n",
      "Epoch 26/35\n",
      "252/252 [==============================] - 211s 839ms/step - loss: 0.5790 - accuracy: 0.6942 - val_loss: 0.5650 - val_accuracy: 0.7160\n",
      "Epoch 27/35\n",
      "252/252 [==============================] - 192s 763ms/step - loss: 0.5820 - accuracy: 0.6945 - val_loss: 0.5485 - val_accuracy: 0.7285\n",
      "Epoch 28/35\n",
      "252/252 [==============================] - 216s 856ms/step - loss: 0.5818 - accuracy: 0.6958 - val_loss: 0.5577 - val_accuracy: 0.7155\n",
      "Epoch 29/35\n",
      "252/252 [==============================] - 230s 913ms/step - loss: 0.5766 - accuracy: 0.7008 - val_loss: 0.6363 - val_accuracy: 0.6340\n",
      "Epoch 30/35\n",
      "252/252 [==============================] - 201s 796ms/step - loss: 0.5738 - accuracy: 0.7002 - val_loss: 0.5576 - val_accuracy: 0.7145\n",
      "Epoch 31/35\n",
      "252/252 [==============================] - 175s 693ms/step - loss: 0.5742 - accuracy: 0.7013 - val_loss: 0.5755 - val_accuracy: 0.6950\n",
      "Epoch 32/35\n",
      "252/252 [==============================] - 182s 721ms/step - loss: 0.5663 - accuracy: 0.7066 - val_loss: 0.5563 - val_accuracy: 0.7145\n",
      "Epoch 33/35\n",
      "252/252 [==============================] - 215s 853ms/step - loss: 0.5624 - accuracy: 0.7091 - val_loss: 0.5455 - val_accuracy: 0.7320\n",
      "Epoch 34/35\n",
      "252/252 [==============================] - 189s 749ms/step - loss: 0.5630 - accuracy: 0.7073 - val_loss: 0.5367 - val_accuracy: 0.7305\n",
      "Epoch 35/35\n",
      "252/252 [==============================] - 173s 688ms/step - loss: 0.5583 - accuracy: 0.7157 - val_loss: 0.5384 - val_accuracy: 0.7300\n"
     ]
    }
   ],
   "source": [
    "model_history = cnn.fit(x=training_set, validation_data=test_set, epochs=35)"
   ]
  },
  {
   "cell_type": "markdown",
   "metadata": {
    "colab_type": "text",
    "id": "U3PZasO0006Z"
   },
   "source": [
    "## Part 4 - Making a single prediction"
   ]
  },
  {
   "cell_type": "code",
   "execution_count": 17,
   "metadata": {},
   "outputs": [],
   "source": [
    "from keras.preprocessing import image\n",
    "import numpy as np"
   ]
  },
  {
   "cell_type": "code",
   "execution_count": 18,
   "metadata": {},
   "outputs": [
    {
     "name": "stdout",
     "output_type": "stream",
     "text": [
      "dog\n"
     ]
    }
   ],
   "source": [
    "image_set=image.load_img(\"dataset/single_prediction/cat_or_dog_1.jpg\", target_size=(64,64),)\n",
    "image_set=image.img_to_array(image_set)\n",
    "image_set=np.expand_dims(image_set, axis=0)\n",
    "result=cnn.predict(image_set)\n",
    "if result[0][0]==1:\n",
    "    print(\"dog\")\n",
    "else:\n",
    "    print(\"cat\")"
   ]
  },
  {
   "cell_type": "code",
   "execution_count": 49,
   "metadata": {},
   "outputs": [
    {
     "name": "stdout",
     "output_type": "stream",
     "text": [
      "cat\n"
     ]
    }
   ],
   "source": [
    "image_set=image.load_img(\"dataset/single_prediction/cat_or_dog_2.jpg\", target_size=(64,64),)\n",
    "image_set=image.img_to_array(image_set)\n",
    "image_set=np.expand_dims(image_set, axis=0)\n",
    "result=cnn.predict(image_set)\n",
    "if result[0][0]==1:\n",
    "    print(\"dog\")\n",
    "else:\n",
    "    print(\"cat\")"
   ]
  },
  {
   "cell_type": "code",
   "execution_count": 50,
   "metadata": {},
   "outputs": [
    {
     "name": "stdout",
     "output_type": "stream",
     "text": [
      "dog\n"
     ]
    }
   ],
   "source": [
    "image_set=image.load_img(\"dataset/single_prediction/cat_or_dog_3.jpg\", target_size=(64,64),)\n",
    "image_set=image.img_to_array(image_set)\n",
    "image_set=np.expand_dims(image_set, axis=0)\n",
    "result=cnn.predict(image_set)\n",
    "if result[0][0]==1:\n",
    "    print(\"dog\")\n",
    "else:\n",
    "    print(\"cat\")"
   ]
  },
  {
   "cell_type": "code",
   "execution_count": 51,
   "metadata": {},
   "outputs": [
    {
     "name": "stdout",
     "output_type": "stream",
     "text": [
      "cat\n"
     ]
    }
   ],
   "source": [
    "image_set=image.load_img(\"dataset/single_prediction/cat_or_dog_4.jpg\", target_size=(64,64),)\n",
    "image_set=image.img_to_array(image_set)\n",
    "image_set=np.expand_dims(image_set, axis=0)\n",
    "result=cnn.predict(image_set)\n",
    "if result[0][0]==1:\n",
    "    print(\"dog\")\n",
    "else:\n",
    "    print(\"cat\")"
   ]
  },
  {
   "cell_type": "markdown",
   "metadata": {},
   "source": [
    "# Model Evaluation"
   ]
  },
  {
   "cell_type": "code",
   "execution_count": 20,
   "metadata": {},
   "outputs": [],
   "source": [
    "import matplotlib.pyplot as plt"
   ]
  },
  {
   "cell_type": "code",
   "execution_count": 21,
   "metadata": {},
   "outputs": [
    {
     "name": "stdout",
     "output_type": "stream",
     "text": [
      "dict_keys(['loss', 'accuracy', 'val_loss', 'val_accuracy'])\n"
     ]
    }
   ],
   "source": [
    "print(model_history.history.keys())"
   ]
  },
  {
   "cell_type": "code",
   "execution_count": 22,
   "metadata": {},
   "outputs": [
    {
     "data": {
      "image/png": "[encoded data removed]",
      "text/plain": [
       "<Figure size 576x576 with 1 Axes>"
      ]
     },
     "metadata": {
      "needs_background": "light"
     },
     "output_type": "display_data"
    }
   ],
   "source": [
    "plt.figure(figsize=(8,8))\n",
    "plt.plot(model_history.history[\"accuracy\"])\n",
    "plt.plot(model_history.history[\"val_accuracy\"])\n",
    "plt.ylabel(\"accuracy\")\n",
    "plt.xlabel(\"epochs\")\n",
    "plt.legend([\"train\",\"test\"], loc=\"lower right\")\n",
    "plt.title(\"Model accuracy\")\n",
    "plt.show()"
   ]
  },
  {
   "cell_type": "code",
   "execution_count": 23,
   "metadata": {},
   "outputs": [
    {
     "data": {
      "image/png": "[encoded data removed]",
      "text/plain": [
       "<Figure size 576x576 with 1 Axes>"
      ]
     },
     "metadata": {
      "needs_background": "light"
     },
     "output_type": "display_data"
    }
   ],
   "source": [
    "plt.figure(figsize=(8,8))\n",
    "plt.plot(model_history.history[\"loss\"])\n",
    "plt.plot(model_history.history[\"val_loss\"])\n",
    "plt.ylabel(\"accuracy\")\n",
    "plt.xlabel(\"epochs\")\n",
    "plt.legend([\"train\",\"test\"], loc=\"lower right\")\n",
    "plt.title(\"Model loss\")\n",
    "plt.show()"
   ]
  }
 ],
 "metadata": {
  "colab": {
   "collapsed_sections": [],
   "name": "Copy of convolutional_neural_network.ipynb",
   "provenance": [],
   "toc_visible": true
  },
  "kernelspec": {
   "display_name": "Python 3",
   "language": "python",
   "name": "python3"
  },
  "language_info": {
   "codemirror_mode": {
    "name": "ipython",
    "version": 3
   },
   "file_extension": ".py",
   "mimetype": "text/x-python",
   "name": "python",
   "nbconvert_exporter": "python",
   "pygments_lexer": "ipython3",
   "version": "3.7.7"
  }
 },
 "nbformat": 4,
 "nbformat_minor": 1
}
